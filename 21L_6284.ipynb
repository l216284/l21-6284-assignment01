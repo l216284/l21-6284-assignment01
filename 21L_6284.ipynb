{
  "nbformat": 4,
  "nbformat_minor": 0,
  "metadata": {
    "colab": {
      "provenance": [],
      "collapsed_sections": [],
      "toc_visible": true
    },
    "kernelspec": {
      "name": "python3",
      "display_name": "Python 3"
    },
    "language_info": {
      "name": "python"
    }
  },
  "cells": [
    {
      "cell_type": "markdown",
      "source": [
        "# Introduction To Data Science – Assignment 1\n",
        "\n",
        "---\n",
        "\n",
        "### Sections A – B – C – D\n",
        "\n",
        "---\n",
        "\n",
        "***Instructions***\n",
        "\n",
        "Due Date: Sunday 18th September 2022 – 11:59PM\n",
        "\n",
        "Name the file in the format Lyyxxxx and save it as .ipynb (e.g. L201234.ipynb)\n",
        "\n",
        "Submission will be taken on **GitHub and Google Classroom (submit the .ipynb file)** - Instructions to upload onto GitHub are provided in the link https://docs.google.com/document/d/1BR1ULOGeGWJVU6Rr6Qty1FR-quVRZyRvQGII6nEs-wo/edit?usp=sharing\n",
        "\n",
        "After uploading and submitting the .ipynb file onto Google Classroom, also private comment the link to the GitHub repository.\n",
        "\n",
        "All source files needed to complete this assignment can be found on the following Google Drive link https://drive.google.com/drive/folders/1VrkaVcExGWqilSeh50WZe4gUBjmUiJ9b?usp=sharing\n",
        "\n",
        "TA Emails\n",
        "\n",
        "Section A, C - Muhammad Maarij l192347@lhr.nu.edu.pk\n",
        "\n",
        "Section B, D - Hira Ijaz l192377@lhr.nu.edu.pk\n",
        "\n",
        "Happy Coding 😊\n",
        "\n",
        "---"
      ],
      "metadata": {
        "id": "TWWLTwYZorzC"
      }
    },
    {
      "cell_type": "markdown",
      "source": [
        "---\n",
        "## Question 1\n",
        "---"
      ],
      "metadata": {
        "id": "arB_0r9H0jjC"
      }
    },
    {
      "cell_type": "markdown",
      "source": [
        "Define a procedure called \"check_input\" that takes an input as a square list of lists (2D Matrix of N x N) and returns a boolen \"true\" if the input is valid or \"false\" otherwise, according to the following criteria.\n",
        "\n",
        "1. Each coloumn must contain numbers from between 1 and N, with no duplicates.\n",
        "2. Each row must contain numbers from between 1 and N, with no duplicates."
      ],
      "metadata": {
        "id": "qHPTNDy30n99"
      }
    },
    {
      "cell_type": "code",
      "source": [
        "def check_input(array):\n",
        "    rows=0\n",
        "    cols=0\n",
        "    lenght=len(array[0])\n",
        "    for i in range(0,lenght):\n",
        "\n",
        "        for j in range(1,lenght):\n",
        "\n",
        "            if(array[i][0]==array[i][j] or (array[i][j])==str):\n",
        "                rows = rows + 1\n",
        "    \n",
        "        for j in range(0,lenght):\n",
        "         \n",
        "         for i in range(1,lenght):\n",
        "            if(array[0][j]==array[i][j] or (array[i][j])==str):\n",
        "                cols = cols + 1\n",
        "    if(rows==0 and cols==0):\n",
        "        return True\n",
        "    else:\n",
        "        return False\n",
        "\n"
      ],
      "metadata": {
        "id": "S2_Zic322Lt7"
      },
      "execution_count": 10,
      "outputs": []
    },
    {
      "cell_type": "code",
      "source": [
        "# run this block to test code after defining the procedure\n",
        "\n",
        "test1 = [[1, 2, 3],\n",
        "        [2, 3, 1],\n",
        "        [3, 1, 2]]\n",
        "\n",
        "test2 = [[1, 2, 3, 4],\n",
        "        [2, 3, 1, 3],\n",
        "        [3, 1, 2, 3],\n",
        "        [4, 4, 4, 4]]\n",
        "\n",
        "test3 = [['a', 'b', 'c'],\n",
        "        ['b', 'c', 'a'],\n",
        "        ['c', 'a', 'b']]\n",
        "\n",
        "print(check_input(test1)) # must return true\n",
        "print(check_input(test2)) # must return false\n",
        "print(check_input(test3)) # must return false"
      ],
      "metadata": {
        "id": "wdL9MWgq2ZbP",
        "colab": {
          "base_uri": "https://localhost:8080/"
        },
        "outputId": "af6a08eb-81b3-421a-d633-c717c5698193"
      },
      "execution_count": 11,
      "outputs": [
        {
          "output_type": "stream",
          "name": "stdout",
          "text": [
            "True\n",
            "False\n",
            "True\n"
          ]
        }
      ]
    },
    {
      "cell_type": "markdown",
      "source": [
        "---\n",
        "## Question 2\n",
        "---"
      ],
      "metadata": {
        "id": "4RVTlnhWqOUC"
      }
    },
    {
      "cell_type": "markdown",
      "source": [
        "**Part A** - Import the file \"StudentMarkSheet.csv\" as a Pandas DataFrame and print the information for the dataframe"
      ],
      "metadata": {
        "id": "Uyc7JPtNt0pR"
      }
    },
    {
      "cell_type": "code",
      "execution_count": null,
      "metadata": {
        "id": "wYrt7e6Xop2P",
        "outputId": "2437a9e1-6cb1-4022-e113-f7c8a808c0d2",
        "colab": {
          "base_uri": "https://localhost:8080/"
        }
      },
      "outputs": [
        {
          "output_type": "stream",
          "name": "stdout",
          "text": [
            "<class 'pandas.core.frame.DataFrame'>\n",
            "RangeIndex: 200 entries, 0 to 199\n",
            "Data columns (total 4 columns):\n",
            " #   Column        Non-Null Count  Dtype  \n",
            "---  ------        --------------  -----  \n",
            " 0   Student name  200 non-null    object \n",
            " 1   Exam name     199 non-null    object \n",
            " 2   Exam date     200 non-null    object \n",
            " 3   Marks         197 non-null    float64\n",
            "dtypes: float64(1), object(3)\n",
            "memory usage: 6.4+ KB\n"
          ]
        }
      ],
      "source": [
        "import pandas as pd\n",
        "data = pd.read_csv(\"StudentMarkSheet.csv\")\n",
        "data.info()\n"
      ]
    },
    {
      "cell_type": "markdown",
      "source": [
        "**Part B** - Remove any rows that do not contain all the data. Also print the following information.\n",
        "\n",
        "1. Number of rows before\n",
        "2. Number of rows containing null data\n",
        "3. Number of rows after"
      ],
      "metadata": {
        "id": "jIaMvgcft_i0"
      }
    },
    {
      "cell_type": "code",
      "source": [
        "import numpy as np\n",
        "import pandas as pd\n",
        "data=pd.read_csv(\"StudentMarkSheet.csv\")\n",
        "a=data.dropna()\n",
        "b=len(data.index)-len(a.index)\n",
        "print(\"NO OF ROWS BEFORE \",len(data.index))\n",
        "print(\"NO OF ROWS CONTAINING NULL DATA\",b)\n",
        "print(\"NO OF ROWS AFTER \",len(a.index))\n"
      ],
      "metadata": {
        "id": "_ov_SWdxuZUm",
        "outputId": "08ad0fc6-896b-4aa7-bf5c-6d1c861762b7",
        "colab": {
          "base_uri": "https://localhost:8080/"
        }
      },
      "execution_count": null,
      "outputs": [
        {
          "output_type": "stream",
          "name": "stdout",
          "text": [
            "NO OF ROWS BEFORE  200\n",
            "NO OF ROWS CONTAINING NULL DATA 4\n",
            "NO OF ROWS AFTER  196\n"
          ]
        }
      ]
    },
    {
      "cell_type": "markdown",
      "source": [
        "**Part C** - Print all the marks along with the subject for the student named \"James Walker\""
      ],
      "metadata": {
        "id": "2kd9zAX6wkXM"
      }
    },
    {
      "cell_type": "code",
      "source": [
        "import pandas as pd\n",
        "data=pd.read_csv(\"StudentMarkSheet.csv\")\n",
        "marks=data[data['Student name']=='James Walker']\n",
        "print(marks)"
      ],
      "metadata": {
        "id": "N0HWJN-PwuSo",
        "colab": {
          "base_uri": "https://localhost:8080/"
        },
        "outputId": "b51a9ba0-cf21-4a6c-eac4-b9a5a61638dd"
      },
      "execution_count": 16,
      "outputs": [
        {
          "output_type": "stream",
          "name": "stdout",
          "text": [
            "     Student name    Exam name   Exam date  Marks\n",
            "0    James Walker      Biology  05/06/2016   31.0\n",
            "42   James Walker    Chemistry  15/06/2016   61.0\n",
            "71   James Walker  Mathematics  29/07/2016   23.0\n",
            "150  James Walker      Physics  10/06/2016  100.0\n",
            "180  James Walker    Sociology  21/06/2016   73.0\n"
          ]
        }
      ]
    },
    {
      "cell_type": "markdown",
      "source": [
        "---\n",
        "## Question 3\n",
        "---"
      ],
      "metadata": {
        "id": "ts8Y1EXmwzhf"
      }
    },
    {
      "cell_type": "markdown",
      "source": [
        "**Part A** - From the DataFrame created in Question 2, calculate the average marks for each subject"
      ],
      "metadata": {
        "id": "PJENm_hpw3GQ"
      }
    },
    {
      "cell_type": "code",
      "source": [
        "import pandas as pd\n",
        "import numpy as np\n",
        "data=pd.read_csv(\"StudentMarkSheet.csv\")\n",
        "phy=data[data['Exam name']=='Physics']['Marks'].mean()\n",
        "print(\"Physics \",phy)\n",
        "math=data[data['Exam name']=='Mathematics']['Marks'].mean()\n",
        "print(\"Math \",math)\n",
        "soc=data[data['Exam name']=='Sociology']['Marks'].mean()\n",
        "print(\"Sociology \",soc)\n",
        "phi=data[data['Exam name']=='Philosophy']['Marks'].mean()\n",
        "print(\"Philosophy \",phi)\n",
        "bio=data[data['Exam name']=='Biology']['Marks'].mean()\n",
        "print(\"Biology \",bio)\n",
        "chem=data[data['Exam name']=='Chemistry']['Marks'].mean()\n",
        "print(\"Chemistry \",chem)\n"
      ],
      "metadata": {
        "id": "AxhCtST5xS3L",
        "colab": {
          "base_uri": "https://localhost:8080/"
        },
        "outputId": "ced2673f-eb9e-4068-8bb1-bc72e2cfd0bf"
      },
      "execution_count": 17,
      "outputs": [
        {
          "output_type": "stream",
          "name": "stdout",
          "text": [
            "Physics  51.76190476190476\n",
            "Math  48.97222222222222\n",
            "Sociology  56.026315789473685\n",
            "Philosophy  47.270270270270274\n",
            "Biology  47.89473684210526\n",
            "Chemistry  50.57692307692308\n"
          ]
        }
      ]
    },
    {
      "cell_type": "markdown",
      "source": [
        "**Part B** - Using the averages you just calculated, plot a Bar Graph showing the average marks of each subject"
      ],
      "metadata": {
        "id": "NDlaA7hHxUBc"
      }
    },
    {
      "cell_type": "code",
      "source": [
        "import matplotlib.pyplot as plt\n",
        "import numpy as np\n",
        "x=np.array([\"Philosophy\",\"Mathematics\",\"Sociology\",\"Physics\",\"Biology\",\"Chemistry\"])\n",
        "y=np.array([phy,math,soc,phi,bio,chem])\n",
        "plt.xlabel(\"Subjects\")\n",
        "plt.ylabel(\"Average marks\")\n",
        "plt.bar(a,b)\n",
        "plt.title(\"Average\")\n",
        "plt.show\n"
      ],
      "metadata": {
        "id": "LWoPFZBOyyNn",
        "colab": {
          "base_uri": "https://localhost:8080/",
          "height": 312
        },
        "outputId": "bb5b3065-c6eb-483e-dce2-9d6f676ae609"
      },
      "execution_count": 19,
      "outputs": [
        {
          "output_type": "execute_result",
          "data": {
            "text/plain": [
              "<function matplotlib.pyplot.show(*args, **kw)>"
            ]
          },
          "metadata": {},
          "execution_count": 19
        },
        {
          "output_type": "display_data",
          "data": {
            "text/plain": [
              "<Figure size 432x288 with 1 Axes>"
            ],
            "image/png": "[encoded data removed]"
          },
          "metadata": {
            "needs_background": "light"
          }
        }
      ]
    },
    {
      "cell_type": "markdown",
      "source": [
        "---\n",
        "## Question 4\n",
        "---"
      ],
      "metadata": {
        "id": "dWlOSOIs6d1R"
      }
    },
    {
      "cell_type": "markdown",
      "source": [
        "**Part A** - Import the file \"CatData.csv\" and preprocess it to remove any null values"
      ],
      "metadata": {
        "id": "b4s-pN4v6kgb"
      }
    },
    {
      "cell_type": "code",
      "source": [
        "import pandas as pd\n",
        "data=pd.read_csv(\"CatData.csv\")\n",
        "data=data.dropna()\n",
        "print(data)\n"
      ],
      "metadata": {
        "id": "mvZ3xrBV9b1s",
        "colab": {
          "base_uri": "https://localhost:8080/"
        },
        "outputId": "75fff719-eca0-44a6-af13-c9637acb1583"
      },
      "execution_count": 29,
      "outputs": [
        {
          "output_type": "stream",
          "name": "stdout",
          "text": [
            "     Tail Length (cm)  Mass (kg)\n",
            "0                18.1      3.750\n",
            "1                18.6      3.800\n",
            "2                19.5      3.250\n",
            "3                19.3      3.450\n",
            "4                19.0      3.650\n",
            "..                ...        ...\n",
            "337              20.7      4.000\n",
            "338              20.2      3.400\n",
            "339              19.3      3.775\n",
            "340              21.0      4.100\n",
            "341              19.8      3.775\n",
            "\n",
            "[342 rows x 2 columns]\n"
          ]
        }
      ]
    },
    {
      "cell_type": "markdown",
      "source": [
        "**Part B** - Identify the independant and dependant variables (comment answer below)"
      ],
      "metadata": {
        "id": "bWxuB3ep9SWA"
      }
    },
    {
      "cell_type": "code",
      "source": [
        "# dependant variable: mass \n",
        "# independant variable: tail length"
      ],
      "metadata": {
        "id": "TS9tvuRt9cWr"
      },
      "execution_count": null,
      "outputs": []
    },
    {
      "cell_type": "markdown",
      "source": [
        "**Part C** - Create a linear regression model using sklearn and fit it to the data you just imported\n"
      ],
      "metadata": {
        "id": "xPHVA3cX7uk9"
      }
    },
    {
      "cell_type": "code",
      "source": [
        "import numpy as np\n",
        "import pandas as pd\n",
        "from  sklearn import linear_model\n",
        "data=pd.read_csv(\"CatData.csv\")\n",
        "n=int(len(data)*0.8)\n",
        "train=data[:n]\n",
        "test=data[n:]\n",
        "reg=linear_model.LinearRegression()\n",
        "train_x=np.array(train[[\"Tail Length (cm)\"]])\n",
        "train_y=np.array((train[[\"Mass (kg)\"]]))\n",
        "reg.fit(train_x,train_y)\n",
        "slope=reg.coef_\n",
        "intercept=reg.intercept_\n"
      ],
      "metadata": {
        "id": "WYVNRotH9cyo"
      },
      "execution_count": 26,
      "outputs": []
    },
    {
      "cell_type": "markdown",
      "source": [
        "**Part D** - Print the values for slope and y-intercept"
      ],
      "metadata": {
        "id": "0QMipKhb830G"
      }
    },
    {
      "cell_type": "code",
      "source": [
        "print(\"Slope \",slope)\n",
        "print(\"Intercept\",intercept)\n"
      ],
      "metadata": {
        "id": "R7cvi3KB9dJh",
        "colab": {
          "base_uri": "https://localhost:8080/"
        },
        "outputId": "3838afc6-c65b-4c79-a25c-013a9385b575"
      },
      "execution_count": 27,
      "outputs": [
        {
          "output_type": "stream",
          "name": "stdout",
          "text": [
            "Slope  [[0.48913766]]\n",
            "Intercept [-5.57328662]\n"
          ]
        }
      ]
    },
    {
      "cell_type": "markdown",
      "source": [
        "**Part E** - Plot a scatter graph of the original data and a regression line on the same figure (example with dummy data shown below)\n",
        "\n",
        "![](https://drive.google.com/uc?export=view&id=1o_NAsNjfx7zAh9m-UjvWB3rta6uraKdY)"
      ],
      "metadata": {
        "id": "IIq-BQYp_i33"
      }
    },
    {
      "cell_type": "code",
      "source": [
        "import matplotlib.pyplot as plt\n",
        "plt.scatter(train[\"Tail Length (cm)\"], train[\"Mass (kg)\"])\n",
        "plt.plot(train_x,slope[0]*train_x+intercept,color=\"red\")\n",
        "plt.xlabel(\"Tail Length (cm)\")\n",
        "plt.ylabel(\"Mass (kg)\")\n",
        "plt.title(\"Mass vs Tail Length\")\n",
        "plt.show()"
      ],
      "metadata": {
        "id": "jhz8gTYt_lCn",
        "colab": {
          "base_uri": "https://localhost:8080/",
          "height": 295
        },
        "outputId": "edb488e6-9331-4aca-94b2-77061ccf88cc"
      },
      "execution_count": 28,
      "outputs": [
        {
          "output_type": "display_data",
          "data": {
            "text/plain": [
              "<Figure size 432x288 with 1 Axes>"
            ],
            "image/png": "[encoded data removed]"
          },
          "metadata": {
            "needs_background": "light"
          }
        }
      ]
    }
  ]
}